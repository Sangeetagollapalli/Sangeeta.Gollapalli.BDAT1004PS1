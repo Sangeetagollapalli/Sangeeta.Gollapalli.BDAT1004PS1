{
 "cells": [
  {
   "cell_type": "markdown",
   "id": "d03953e2",
   "metadata": {},
   "source": [
    "## BDAT 1004- Data Programming ##"
   ]
  },
  {
   "cell_type": "markdown",
   "id": "bdc505e5",
   "metadata": {},
   "source": [
    "## Problem Set- 1 ##"
   ]
  },
  {
   "cell_type": "markdown",
   "id": "d8d972dd",
   "metadata": {},
   "source": [
    "### Sangeeta Gollapalli 200521939 ###\n",
    "### Section - D ###\n"
   ]
  },
  {
   "cell_type": "markdown",
   "id": "317bcd44",
   "metadata": {},
   "source": [
    "Question 6"
   ]
  },
  {
   "cell_type": "code",
   "execution_count": 1,
   "id": "ee2b578d",
   "metadata": {},
   "outputs": [
    {
     "name": "stdout",
     "output_type": "stream",
     "text": [
      "appyhay\n",
      "enterway\n",
      "angeetasay\n"
     ]
    }
   ],
   "source": [
    "#word into pig-Latin\n",
    "def pig(word):\n",
    "    vowels = \"aeiou\"\n",
    "    if word[0].lower() in vowels:\n",
    "        return word.lower() + \"way\"\n",
    "    else:\n",
    "        return word[1:].lower() + word[0].lower() + \"ay\"\n",
    "  \n",
    "\n",
    "#print(pig('happy'))\n",
    "print(pig('happy'))\n",
    "print(pig('Enter'))\n",
    "print(pig('Sangeeta'))"
   ]
  },
  {
   "cell_type": "markdown",
   "id": "7ab29514",
   "metadata": {},
   "source": [
    "Question 7"
   ]
  },
  {
   "cell_type": "code",
   "execution_count": 5,
   "id": "1773ba82",
   "metadata": {},
   "outputs": [
    {
     "name": "stdout",
     "output_type": "stream",
     "text": [
      "There are 10 patients of blood type A.\n",
      "There are one patients of blood type B.\n",
      "There are 13 patients of blood type AB.\n",
      "There are 15 patients of blood type O.\n",
      "There are no patients of blood type OO.\n"
     ]
    }
   ],
   "source": [
    " def bldcount(bloodfile):\n",
    "    s = open(bloodfile,\"r\")\n",
    "    f = s.read()\n",
    "    o=0\n",
    "    oo=0\n",
    "    A=int(f.count(' A '))\n",
    "    B=int(f.count(' B '))\n",
    "    AB=int(f.count('AB'))\n",
    "    o=int(f.count('O'))\n",
    "    OO=int(f.count('OO'))\n",
    "   \n",
    "    print('There are', A ,'patients of blood type A.')\n",
    "    if(B==1):\n",
    "        B=str('one')\n",
    "        print('There are', B ,'patients of blood type B.')\n",
    "    print('There are', AB ,'patients of blood type AB.')\n",
    "    print('There are', o ,'patients of blood type O.')\n",
    "    if(OO==0):\n",
    "        OO=str('no')\n",
    "    print('There are', OO ,'patients of blood type OO.')\n",
    "    \n",
    "\n",
    "bldcount('bloodtype1.txt')\n",
    "    \n"
   ]
  },
  {
   "cell_type": "markdown",
   "id": "117c2bc8",
   "metadata": {},
   "source": [
    "Question 8"
   ]
  },
  {
   "cell_type": "code",
   "execution_count": 6,
   "id": "423dd48c",
   "metadata": {},
   "outputs": [
    {
     "name": "stdout",
     "output_type": "stream",
     "text": [
      "122.96544\n",
      "1.241401\n"
     ]
    }
   ],
   "source": [
    "def curconv(currency,amount):\n",
    "    openfile=open('currencies.txt',\"r\")\n",
    "    readfile=openfile.readlines()\n",
    "    #print(readfile)\n",
    "    for line in readfile:\n",
    "        #print(line)\n",
    "        \n",
    "        spl=line.split('\\t')\n",
    "        if(currency==spl[0]):\n",
    "            currency=float(spl[1])*amount\n",
    "            return currency      \n",
    "\n",
    "      \n",
    "\n",
    "#print(curconv('JPY', 100))\n",
    "print(curconv('EUR',100))\n",
    "print(curconv('JPY',100))\n",
    "\n"
   ]
  },
  {
   "cell_type": "markdown",
   "id": "b9937750",
   "metadata": {},
   "source": [
    "Question 9"
   ]
  },
  {
   "cell_type": "markdown",
   "id": "2bcd69d4",
   "metadata": {},
   "source": [
    "\n",
    "1. If we add incompatible variables (6 + ‘a’) in throw a error of Invalid Character '‘'\n",
    "2. If we try to print 12th item of a list that has only 10 we get the error of: \"list index out of rang\"\n",
    "3. if we try to print Using a value that is out of range for a function’s: ValueError exception.\n",
    "4. when you try to print undeclared variable name: 'x' is not defined\n",
    "5. If you trying to open a file that does not exist: No such file or directory: 'currens.txt'\n",
    "\n",
    "\n",
    "\n",
    "\n"
   ]
  },
  {
   "cell_type": "markdown",
   "id": "dfab7305",
   "metadata": {},
   "source": [
    "Question 10"
   ]
  },
  {
   "cell_type": "code",
   "execution_count": 7,
   "id": "5b04c098",
   "metadata": {},
   "outputs": [
    {
     "name": "stdout",
     "output_type": "stream",
     "text": [
      "[1, 1, 1, 3, 5, 1, 1, 2, 1, 0, 1, 0, 1, 2, 4, 0, 1, 2, 0, 3, 1, 0, 1, 1, 0, 0]\n",
      "[1, 0, 0, 0, 1, 0, 0, 0, 0, 0, 0, 1, 0, 0, 0, 2, 0, 0, 0, 0, 0, 0, 0, 0, 0, 0]\n"
     ]
    }
   ],
   "source": [
    "def frequencies(text):\n",
    "    letters = 'abcdefghijklmnopqrstuvwxyz'\n",
    "    freq_list = [0] * 26\n",
    "    for char in text:\n",
    "        if char.lower() in letters:\n",
    "            freq_list[letters.index(char.lower())] += 1\n",
    "    return freq_list\n",
    "\n",
    "print(frequencies('The quick red fox got bored and went home.'))\n",
    "print(frequencies('apple'))\n"
   ]
  }
 ],
 "metadata": {
  "kernelspec": {
   "display_name": "Python 3 (ipykernel)",
   "language": "python",
   "name": "python3"
  },
  "language_info": {
   "codemirror_mode": {
    "name": "ipython",
    "version": 3
   },
   "file_extension": ".py",
   "mimetype": "text/x-python",
   "name": "python",
   "nbconvert_exporter": "python",
   "pygments_lexer": "ipython3",
   "version": "3.9.13"
  }
 },
 "nbformat": 4,
 "nbformat_minor": 5
}
