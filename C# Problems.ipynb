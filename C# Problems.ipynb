{
 "cells": [
  {
   "cell_type": "code",
   "execution_count": 1,
   "id": "ed9e5437",
   "metadata": {},
   "outputs": [],
   "source": [
    "//Question 1\n",
    "//5 is an integer .\n",
    "//5.0 is a float datatype .\n",
    "//5>1 is a boolean .\n",
    "//'5' is a character .\n",
    "//5*2 is an integer.\n",
    "//'5'*2 is an integer.\n",
    "//'5'+'2' is an integer.\n",
    "//5/2 is integer.\n",
    "//5%2 is  integer.\n",
    "//{5,2,1} is array.\n",
    "//5==3 is boolean.\n",
    "//Pi(the number )is float datatype"
   ]
  },
  {
   "cell_type": "code",
   "execution_count": 2,
   "id": "d068ee3a",
   "metadata": {},
   "outputs": [
    {
     "name": "stdout",
     "output_type": "stream",
     "text": [
      "1.7320508075688772\r\n"
     ]
    }
   ],
   "source": [
    "//Question 3\n",
    "        {\n",
    "            Console.WriteLine(triangleArea(2, 2, 2));\n",
    "        }\n",
    "\n",
    "        static double triangleArea(double a, double b, double c)\n",
    "        {\n",
    "            double s = (a + b + c) / 2;\n",
    "            return Math.Sqrt(s * (s - a) * (s - b) * (s - c));\n",
    "        }"
   ]
  },
  {
   "cell_type": "code",
   "execution_count": null,
   "id": "cb17d852",
   "metadata": {},
   "outputs": [],
   "source": []
  }
 ],
 "metadata": {
  "kernelspec": {
   "display_name": ".NET (C#)",
   "language": "C#",
   "name": ".net-csharp"
  },
  "language_info": {
   "file_extension": ".cs",
   "mimetype": "text/x-csharp",
   "name": "C#",
   "pygments_lexer": "csharp",
   "version": "8.0"
  }
 },
 "nbformat": 4,
 "nbformat_minor": 5
}
